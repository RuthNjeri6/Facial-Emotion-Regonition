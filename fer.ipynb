{
  "nbformat": 4,
  "nbformat_minor": 0,
  "metadata": {
    "colab": {
      "provenance": [],
      "authorship_tag": "ABX9TyM21W7UEbYChWLFkAusm4F+",
      "include_colab_link": true
    },
    "kernelspec": {
      "name": "python3",
      "display_name": "Python 3"
    },
    "language_info": {
      "name": "python"
    }
  },
  "cells": [
    {
      "cell_type": "markdown",
      "metadata": {
        "id": "view-in-github",
        "colab_type": "text"
      },
      "source": [
        "<a href=\"https://colab.research.google.com/github/RuthNjeri6/Facial-Emotion-Regonition/blob/main/fer.ipynb\" target=\"_parent\"><img src=\"https://colab.research.google.com/assets/colab-badge.svg\" alt=\"Open In Colab\"/></a>"
      ]
    },
    {
      "cell_type": "markdown",
      "source": [
        "# **Facial Emotion Recognition**"
      ],
      "metadata": {
        "id": "OjSsqDPVvy3w"
      }
    },
    {
      "cell_type": "markdown",
      "source": [
        "Importing the necessary libraries"
      ],
      "metadata": {
        "id": "ReqGBR5lvmqA"
      }
    },
    {
      "cell_type": "code",
      "execution_count": 2,
      "metadata": {
        "id": "49Hzu8DZtzKi"
      },
      "outputs": [],
      "source": [
        "import numpy as np\n",
        "import pandas as pd\n",
        "import matplotlib.pyplot as plt"
      ]
    },
    {
      "cell_type": "markdown",
      "source": [
        "importing tensorflow model libraries"
      ],
      "metadata": {
        "id": "GBRdJsTZuM5d"
      }
    },
    {
      "cell_type": "code",
      "source": [
        "import tensorflow as tf\n",
        "from tensorflow.keras.models import Sequesntial\n",
        "from tensorflow.keras.layers import Conv2D, MaxPooling2D, AvearagePooling2D\n",
        "from tensorflow.keras.layers import Dense, Activation, Dropout, Flatten, BatchNormalization\n",
        "from tensorflow.keras.preprocessing import image\n",
        "from tensorflow.keras.preprocessing.image import ImageDataGenerator\n",
        "from tensorflow.keras.metrics import categorical_accuracy\n",
        "from tensorflow.keras.models import model_from_json, load_model\n",
        "from tensorflow.keras.utils import to_categorical\n",
        "from tensorflow.keras.callbacks import ModelCheckpoint\n",
        "from tensorflow.keras.optimizers import *"
      ],
      "metadata": {
        "id": "81LVB8B4uXZF"
      },
      "execution_count": null,
      "outputs": []
    },
    {
      "cell_type": "markdown",
      "source": [
        "Loading dataset and explore the dataset"
      ],
      "metadata": {
        "id": "F9bFZnADx3Dz"
      }
    },
    {
      "cell_type": "code",
      "source": [
        "data = pd.read_csv('fer2013.csv')"
      ],
      "metadata": {
        "id": "mgHjEv7Mx5c6"
      },
      "execution_count": 12,
      "outputs": []
    },
    {
      "cell_type": "markdown",
      "source": [
        "Defining Helper Functions\n",
        "\n",
        "1. Extract features function\n"
      ],
      "metadata": {
        "id": "Fjrdu9PQo9Gx"
      }
    },
    {
      "cell_type": "code",
      "source": [
        "def extract_features(filename):\n",
        "  headers = True\n",
        "  X = []\n",
        "  Y = []\n",
        "  for line in open(filename):\n",
        "    if headers:\n",
        "      headers = False\n",
        "    else:\n",
        "      row = line.split(',')\n",
        "      X.append(int(row[0]))\n",
        "      Y.append([int(feature) for feature in row[1].split()])\n",
        "  X, Y = np.array(X)/255.0, np.array(Y)\n",
        "  return (X, Y)"
      ],
      "metadata": {
        "id": "s15-fYsHpKKc"
      },
      "execution_count": 15,
      "outputs": []
    },
    {
      "cell_type": "markdown",
      "source": [
        "Variable to hold your files"
      ],
      "metadata": {
        "id": "ql7vet79rTvJ"
      }
    },
    {
      "cell_type": "code",
      "source": [
        "test_file_name = 'Testing_Data.csv'\n",
        "#train_file_name = 'Training_Data.csv'\n",
        "val_file_name = 'Validation_Data.csv'\n",
        "\n",
        "#train_X, train_Y = extract_features(train_file_name)\n",
        "val_X, val_Y = extract_features(val_file_name)\n",
        "test_X, test_Y = extract_features(test_file_name)\n",
        "\n",
        "#train_X = np.array(train_X, 'float32')\n",
        "#train_Y = np.array(train_Y, 'float32')\n",
        "val_X = np.array(val_X, 'float32')\n",
        "val_Y = np.array(val_Y, 'float32')\n",
        "test_X = np.array(test_X, 'float32')\n",
        "test_Y = np.array(test_Y, 'float32')\n",
        "\n",
        "print(test_X.shape)\n",
        "print(test_Y.shape)\n",
        "print(val_X.shape)\n",
        "print(val_Y.shape)"
      ],
      "metadata": {
        "colab": {
          "base_uri": "https://localhost:8080/"
        },
        "id": "2WVrcjtRrcxi",
        "outputId": "810b001b-f27c-460b-bb06-181c63565bfe"
      },
      "execution_count": 16,
      "outputs": [
        {
          "output_type": "stream",
          "name": "stdout",
          "text": [
            "(3589,)\n",
            "(3589, 2304)\n",
            "(3589,)\n",
            "(3589, 2304)\n"
          ]
        }
      ]
    },
    {
      "cell_type": "markdown",
      "source": [
        "2. Ploting Funtion"
      ],
      "metadata": {
        "id": "3DGgU_eFvDKe"
      }
    },
    {
      "cell_type": "code",
      "source": [],
      "metadata": {
        "id": "7_KEO5rSvFe3"
      },
      "execution_count": null,
      "outputs": []
    }
  ]
}